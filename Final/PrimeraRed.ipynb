{
 "cells": [
  {
   "cell_type": "code",
   "execution_count": 41,
   "metadata": {},
   "outputs": [],
   "source": [
    "import tensorflow as tf\n",
    "import numpy as np\n",
    "\n",
    "celsius = np.array([-40, -10, 0, 8, 15, 22, 38], dtype=float)\n",
    "fahrenheit = np.array([-40, 14, 32, 46, 59, 72, 100], dtype=float)"
   ]
  },
  {
   "cell_type": "code",
   "execution_count": 42,
   "metadata": {},
   "outputs": [
    {
     "name": "stderr",
     "output_type": "stream",
     "text": [
      "c:\\Users\\victo\\miniconda3\\envs\\conda_env\\Lib\\site-packages\\keras\\src\\layers\\core\\dense.py:88: UserWarning: Do not pass an `input_shape`/`input_dim` argument to a layer. When using Sequential models, prefer using an `Input(shape)` object as the first layer in the model instead.\n",
      "  super().__init__(activity_regularizer=activity_regularizer, **kwargs)\n"
     ]
    }
   ],
   "source": [
    "# Se usa el framework Keras para definir la red neuronal\n",
    "# Capa densa: tiene conexiones desde cada neurona a todas las neuronas de la capa siguiente\n",
    "\n",
    "\n",
    "################ MÉTODO CON UNA SOLA CAPA ################\n",
    "\n",
    "# En este caso solo tiene una neurona\n",
    "#capa = tf.keras.layers.Dense(units=1, input_shape=[1])\n",
    "# Con input_shame se define la una entrada con una neurona\n",
    "\n",
    "#modelo = tf.keras.Sequential([capa])  # Se crea el modelo con la capa definida\n",
    "\n",
    "###########################################################\n",
    "\n",
    "\n",
    "\n",
    "\n",
    "################ MÉTODO CON 3 CAPAS ################\n",
    "# Añadimos lo que se llaman capas ocultas, donde volvemos a definir una capa densa con un numero de neuronas\n",
    "\n",
    "oculta1 = tf.keras.layers.Dense(units=3, input_shape=[1])\n",
    "oculta2 = tf.keras.layers.Dense(units=3)\n",
    "salida = tf.keras.layers.Dense(units=1)\n",
    "modelo = tf.keras.Sequential([oculta1, oculta2, salida])"
   ]
  },
  {
   "cell_type": "code",
   "execution_count": 43,
   "metadata": {},
   "outputs": [],
   "source": [
    "modelo.compile(\n",
    "    # Se define el optimizador, aquí se usa el algoritmo de Adam para\n",
    "    optimizer=tf.keras.optimizers.Adam(0.1),\n",
    "    # ir ajustando los pesos de la red. El numero de dentro es la tasa de aprendizaje\n",
    "    loss='mean_squared_error'  # Se define la función de pérdida\n",
    ")"
   ]
  },
  {
   "cell_type": "code",
   "execution_count": 44,
   "metadata": {},
   "outputs": [
    {
     "name": "stdout",
     "output_type": "stream",
     "text": [
      "Comenzando entrenamiento...\n",
      "Modelo entrenado!\n"
     ]
    }
   ],
   "source": [
    "print(\"Comenzando entrenamiento...\")\n",
    "historial = modelo.fit(celsius, fahrenheit, epochs=500, verbose=False)\n",
    "# Epochs son las iteraciones, en este caso 1000 y verbose es para que no muestre el progreso\n",
    "print(\"Modelo entrenado!\")"
   ]
  },
  {
   "cell_type": "code",
   "execution_count": 45,
   "metadata": {},
   "outputs": [
    {
     "data": {
      "text/plain": [
       "[<matplotlib.lines.Line2D at 0x207d5423690>]"
      ]
     },
     "execution_count": 45,
     "metadata": {},
     "output_type": "execute_result"
    },
    {
     "data": {
      "image/png": "[encoded data removed]",
      "text/plain": [
       "<Figure size 640x480 with 1 Axes>"
      ]
     },
     "metadata": {},
     "output_type": "display_data"
    }
   ],
   "source": [
    "# Con esto vemos la función de pérdida y podemos ver en que numero de iteraciones \n",
    "# se estabiliza el error para no tener que hacer iteraciones de mas\n",
    "import matplotlib.pyplot as plt\n",
    "plt.xlabel(\"# Epoch\")\n",
    "plt.ylabel(\"Magnitud de pérdida\")\n",
    "plt.plot(historial.history[\"loss\"])\n",
    "\n",
    "#  En el caso de la red con mas capas se puede ver que el error se estabiliza cerca de las 50 iteraciones"
   ]
  },
  {
   "cell_type": "code",
   "execution_count": 46,
   "metadata": {},
   "outputs": [
    {
     "name": "stdout",
     "output_type": "stream",
     "text": [
      "Hagamos una predicción!\n",
      "WARNING:tensorflow:6 out of the last 8 calls to <function TensorFlowTrainer.make_predict_function.<locals>.one_step_on_data_distributed at 0x00000207D55C20C0> triggered tf.function retracing. Tracing is expensive and the excessive number of tracings could be due to (1) creating @tf.function repeatedly in a loop, (2) passing tensors with different shapes, (3) passing Python objects instead of tensors. For (1), please define your @tf.function outside of the loop. For (2), @tf.function has reduce_retracing=True option that can avoid unnecessary retracing. For (3), please refer to https://www.tensorflow.org/guide/function#controlling_retracing and https://www.tensorflow.org/api_docs/python/tf/function for  more details.\n",
      "\u001b[1m1/1\u001b[0m \u001b[32m━━━━━━━━━━━━━━━━━━━━\u001b[0m\u001b[37m\u001b[0m \u001b[1m0s\u001b[0m 96ms/step\n",
      " El resultado es [[211.74742]] fahrenheit!\n"
     ]
    }
   ],
   "source": [
    "print(\"Hagamos una predicción!\")\n",
    "resultado = modelo.predict(np.array([100]))\n",
    "print(f\" El resultado es {resultado} fahrenheit!\")"
   ]
  },
  {
   "cell_type": "code",
   "execution_count": 47,
   "metadata": {},
   "outputs": [
    {
     "name": "stdout",
     "output_type": "stream",
     "text": [
      "Variables internas del modelo\n",
      " Primera capa oculta: [array([[ 0.50373197,  0.3000499 , -0.23384869]], dtype=float32), array([ 3.8865564,  1.3934002, -3.6448307], dtype=float32)] \n",
      " Segunda capa oculta: [array([[ 1.0315869 , -1.1655083 , -0.2210601 ],\n",
      "       [-0.62019676, -0.347505  ,  0.32977295],\n",
      "       [ 0.34083354,  0.9027852 ,  0.6233531 ]], dtype=float32), array([ 1.4851786, -3.803974 , -3.696684 ], dtype=float32)] \n",
      " Capa de salida: [array([[ 0.26292953],\n",
      "       [-1.7436514 ],\n",
      "       [-0.9962284 ]], dtype=float32), array([3.604367], dtype=float32)] \n"
     ]
    }
   ],
   "source": [
    "######### MODELO DE UNA SOLA CAPA #########\n",
    "# A continuacion veremos el funcionamiento interno de la red\n",
    "print(\"Variables internas del modelo\")\n",
    "#print(f\" Capa: {capa.get_weights()} \")\n",
    "\n",
    "\n",
    "# En este caso el peso está establecido en 1.8 y el sesgo en 28.9\n",
    "# Es decir en este caso la red neuronal ha aprendido que la relación entre celsius y fahrenheit estableciendo \n",
    "# que la relación es de 1.8 y el sesgo es de 28.9. Esto no es del todo real por lo que deberiamos \n",
    "# de tener mas datos o de realizar mas iteraciones para que la red neuronal aprenda mejor\n",
    "\n",
    "###########################################\n",
    "\n",
    "\n",
    "######### MODELO DE 3 CAPAS #########\n",
    "print(f\" Primera capa oculta: {oculta1.get_weights()} \")\n",
    "print(f\" Segunda capa oculta: {oculta2.get_weights()} \")\n",
    "print(f\" Capa de salida: {salida.get_weights()} \")\n",
    "#####################################"
   ]
  }
 ],
 "metadata": {
  "kernelspec": {
   "display_name": "conda_env",
   "language": "python",
   "name": "python3"
  },
  "language_info": {
   "codemirror_mode": {
    "name": "ipython",
    "version": 3
   },
   "file_extension": ".py",
   "mimetype": "text/x-python",
   "name": "python",
   "nbconvert_exporter": "python",
   "pygments_lexer": "ipython3",
   "version": "3.11.7"
  }
 },
 "nbformat": 4,
 "nbformat_minor": 2
}
