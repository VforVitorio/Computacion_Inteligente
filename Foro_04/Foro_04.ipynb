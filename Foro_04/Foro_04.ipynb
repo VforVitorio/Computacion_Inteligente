{
 "cells": [
  {
   "cell_type": "markdown",
   "metadata": {},
   "source": [
    "# Implementación de la Distancia de Levenshtein\n",
    "\n",
    "La distancia de Levenshtein tiene grandes aplicaciones en diferentes ámbitos. Es una métrica que sirve para medir la diferencia entre dos cadenas de caracteres.\n",
    "\n",
    "Se define como el número mínimo de operaciones necesarias para transformar una cadena en otra y tiene como operaciones permitidas:\n",
    "1. Inserción.\n",
    "2. Eliminación.\n",
    "3. Sustitución de caracteres.\n",
    "\n",
    "Se trata de un abordaje difuso para medir la similitud entre cadenas de caracteres.\n",
    "En este notebook se intentará realizar una implentación de esta distancia sin usar las librerías que ya traen predefinidas las funcionalidades que ofrece el cálculo de esta distancia.\n",
    "\n",
    "[Pulsa aquí para volver al readme del repositorio](../README.md)\n"
   ]
  },
  {
   "cell_type": "markdown",
   "metadata": {},
   "source": [
    "## Ratio de Levenshtein \n",
    "\n",
    "Resulta conveniente normalizar la distancia de Levenshtein empleando una magnitud relativa que permita comparar distancias entre cadenas. De esta forma se evitan sesgos en los resultados para determinados ámbitos de aplicación en comparaciones de cadenas de distancias largas.\n",
    "\n",
    "La solución más simple es la siguiente:"
   ]
  },
  {
   "cell_type": "markdown",
   "metadata": {},
   "source": [
    "$$\\text{ratio\\_lev}{(a,b)} = 1 - \\frac{\\text{lev}(a,b)}{\\max(\\text{longitud}(a), \\text{longitud}(b))}$$\n"
   ]
  },
  {
   "cell_type": "markdown",
   "metadata": {},
   "source": [
    "## Implementación\n",
    "Para implementar la distancia de Levenshtein se usará el código Python siguiente:"
   ]
  },
  {
   "cell_type": "code",
   "execution_count": null,
   "metadata": {},
   "outputs": [],
   "source": [
    "def levDistance(cadena1: str, cadena2: str) -> int:\n",
    "\n",
    "    coste = 0\n",
    "\n",
    "    lenCadena1 = len(cadena1) + 1\n",
    "    lenCadena2 = len(cadena2) + 1\n",
    "\n",
    "    # crear matriz\n",
    "\n",
    "    matriz = [[0 for n in range(lenCadena2)] for m in range(lenCadena1)]\n",
    "\n",
    "    # inicializar matriz\n",
    "    for i in range(lenCadena1):\n",
    "        matriz[i][0] = i\n",
    "    for j in range(lenCadena2):\n",
    "        matriz[0][j] = j\n",
    "    \n",
    "    \n",
    "    for i in range(1, lenCadena1):\n",
    "        for j in range(1, lenCadena2):\n",
    "\n",
    "            if cadena1[i-1] != cadena2[j-1]:\n",
    "                coste = 1\n",
    "            else:\n",
    "                coste = 0\n",
    "            \n",
    "            matriz[i][j] = min(matriz[i-1][j] + 1, matriz[i][j-1] + 1, matriz[i-1][j-1] + coste) \n",
    "            \n",
    "    return matriz[lenCadena1-1][lenCadena2-1]\n",
    "\n",
    "def lev_ratio(cadena1: str, cadena2: str) -> float:\n",
    "    return 1 - levDistance(cadena1, cadena2)/ (max(cadena1, cadena2))\n",
    "\n",
    "\n",
    "\n",
    "            \n",
    "    \n",
    "print(levDistance(\"Fernando\", \"Frenando\"))"
   ]
  },
  {
   "cell_type": "markdown",
   "metadata": {},
   "source": [
    "En este "
   ]
  },
  {
   "cell_type": "code",
   "execution_count": null,
   "metadata": {},
   "outputs": [],
   "source": [
    "matriz = [[0 for n in range(10)] for m in range(10)]\n",
    "\n",
    "\n",
    "print(matriz)"
   ]
  }
 ],
 "metadata": {
  "kernelspec": {
   "display_name": "conda_env",
   "language": "python",
   "name": "python3"
  },
  "language_info": {
   "codemirror_mode": {
    "name": "ipython",
    "version": 3
   },
   "file_extension": ".py",
   "mimetype": "text/x-python",
   "name": "python",
   "nbconvert_exporter": "python",
   "pygments_lexer": "ipython3",
   "version": "3.11.7"
  }
 },
 "nbformat": 4,
 "nbformat_minor": 2
}
