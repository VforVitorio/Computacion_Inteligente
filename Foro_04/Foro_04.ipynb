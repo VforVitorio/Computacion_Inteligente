{
 "cells": [
  {
   "cell_type": "markdown",
   "metadata": {},
   "source": [
    "# Implementación de la Distancia de Levenshtein\n",
    "\n",
    "La distancia de Levenshtein tiene grandes aplicaciones en diferentes ámbitos. Es una métrica que sirve para medir la diferencia entre dos cadenas de caracteres.\n",
    "\n",
    "Se define como el número mínimo de operaciones necesarias para transformar una cadena en otra y tiene como operaciones permitidas:\n",
    "1. Inserción.\n",
    "2. Eliminación.\n",
    "3. Sustitución de caracteres.\n",
    "\n",
    "Se trata de un abordaje difuso para medir la similitud entre cadenas de caracteres.\n",
    "En este notebook se intentará realizar una implentación de esta distancia sin usar las librerías que ya traen predefinidas las funcionalidades que ofrece el cálculo de esta distancia.\n",
    "\n",
    "[Pulsa aquí para volver al readme del repositorio](../README.md)\n"
   ]
  },
  {
   "cell_type": "markdown",
   "metadata": {},
   "source": [
    "## Ratio de Levenshtein \n",
    "\n",
    "Resulta conveniente normalizar la distancia de Levenshtein empleando una magnitud relativa que permita comparar distancias entre cadenas. De esta forma se evitan sesgos en los resultados para determinados ámbitos de aplicación en comparaciones de cadenas de distancias largas.\n",
    "\n",
    "La solución más simple es la siguiente:"
   ]
  },
  {
   "cell_type": "markdown",
   "metadata": {},
   "source": [
    "$$\\text{ratio\\_lev}{(a,b)} = 1 - \\frac{\\text{lev}(a,b)}{\\max(\\text{longitud}(a), \\text{longitud}(b))}$$\n"
   ]
  },
  {
   "cell_type": "markdown",
   "metadata": {},
   "source": [
    "## Implementación\n",
    "Para implementar la distancia de Levenshtein se usará un código en lenguaje Python que devuelva la distancia de Levenshetein existente entre dos cadenas de texto diferentes."
   ]
  },
  {
   "cell_type": "markdown",
   "metadata": {},
   "source": [
    "### Planteamiento a seguir\n",
    "Para ello, usaremos una matriz, donde las filas representarán los caracteres de la primera cadena y las columnas de los caracteres de la segunda cadena.\n",
    "\n",
    "A continuación se hace un pequeño ejemplo de como crear una matriz n x m en Python, en este caso de rango 10 para filas y columnas."
   ]
  },
  {
   "cell_type": "code",
   "execution_count": null,
   "metadata": {},
   "outputs": [],
   "source": [
    "matriz = [[0 for n in range(10)] for m in range(10)]\n",
    "print(matriz)"
   ]
  },
  {
   "cell_type": "markdown",
   "metadata": {},
   "source": [
    "### Explicación del código\n",
    "\n",
    "Nuestro código para el cálculo de la distancia de Levenshtein se compone de las siguientes partes:\n",
    "\n",
    "1. Se crea una función levDistance que recibe de parámetros dos cadenas de texto y devuelve la distancia de Levenshtein entre ellas con un número entero.\n",
    "    1. Inicializamos una variable coste en 0.\n",
    "    2. Se calcula la longitud independiente de ambas cadenas de texto.\n",
    "    3. Se genera una matriz n x m que recibe como rango la longitud de ambas cadenas de texto.\n",
    "    4. Con la matriz se realiza:\n",
    "        - Establecimiento de los valores de la primera fila y de la primera columna.\n",
    "        - Recorrido de la matriz desde el índice 1 hasta la longitud de la cadena 2.\n",
    "    5. Cálculo de la distancia final.\n",
    "\n",
    "2. Se calcula el ratio de Levenshtein implementando la fórmula de este definida anteriormente.\n",
    "3. Finalmente, se devuelve la distancia entre dos cadenas de texto que el usuario debe agregar en el propio código en la última linea."
   ]
  },
  {
   "cell_type": "code",
   "execution_count": null,
   "metadata": {},
   "outputs": [],
   "source": [
    "def levDistance(cadena1: str, cadena2: str) -> int: # Dos cadenas de texto como entrada y \n",
    "    # Devuelve la distancia de Levenshtein entre ellas\n",
    "\n",
    "    # Inicliazamos el coste a 0\n",
    "    coste = 0          \n",
    "\n",
    "    # Calculamos la longitud de las cadenas y les sumamos 1 para descartar el valor 0\n",
    "    lenCadena1 = len(cadena1) + 1 \n",
    "    lenCadena2 = len(cadena2) + 1\n",
    "\n",
    "    # Crear matriz\n",
    "    # Pasamos el rango de la longitud de la cadena 1 y el rango de la longitud de la cadena 2 \n",
    "    # Esto crea la matriz n x m\n",
    "    matriz = [[0 for n in range(lenCadena2)] for m in range(lenCadena1)]\n",
    "\n",
    "    # Inicializar matriz\n",
    "    # Establecemos los valores de la primera fila y de la primera columna \n",
    "    for i in range(lenCadena1):\n",
    "        matriz[i][0] = i\n",
    "    for j in range(lenCadena2):\n",
    "        matriz[0][j] = j\n",
    "    \n",
    "    # Recorremos la matriz desde el indice numero 1 hasta la longitud de la cadena 2\n",
    "    for i in range(1, lenCadena1):\n",
    "        for j in range(1, lenCadena2):\n",
    "\n",
    "            if cadena1[i-1] != cadena2[j-1]: # Si no son iguales las cadenas al compararlas le sumamos un 1 al coste\n",
    "                coste = 1\n",
    "            else:\n",
    "                coste = 0\n",
    "            # Calculamos el valor mínimo de las operaciones que podemos realizar en Levenshtein, inserción eliminación y sustitución\n",
    "            matriz[i][j] = min(matriz[i-1][j] + 1, matriz[i][j-1] + 1, matriz[i-1][j-1] + coste) \n",
    "            \n",
    "    #Calculamos el resultado final, extrayendo el resultado de la ultima celda de la matriz\n",
    "    return matriz[lenCadena1-1][lenCadena2-1]"
   ]
  },
  {
   "cell_type": "code",
   "execution_count": null,
   "metadata": {},
   "outputs": [],
   "source": [
    "# Calculamos el ratio de levenshtein especificada anteriormente\n",
    "def levRatio(cadena1: str, cadena2: str) -> float:\n",
    "    return 1 - levDistance(cadena1, cadena2) / max(len(cadena1), len(cadena2))"
   ]
  },
  {
   "cell_type": "code",
   "execution_count": null,
   "metadata": {},
   "outputs": [],
   "source": [
    "# Se introducen las dos palabras a las que se les quiera calcular la distancia de Levenshtein\n",
    "print(levDistance(\"cama\", \"casa\"))"
   ]
  },
  {
   "cell_type": "markdown",
   "metadata": {},
   "source": [
    "### Implementación de la función de levenshtein para un motor de búsqueda\n",
    "\n",
    "Para realizar un motor de búsqueda, necesitamos una base de datos. En este caso, sobre una inmobiliaria.\n"
   ]
  },
  {
   "cell_type": "code",
   "execution_count": null,
   "metadata": {},
   "outputs": [],
   "source": [
    "BD = [\n",
    "    {\n",
    "        \"expediente\": \"GA00000010\",\n",
    "        \"descripcion\": \"Casa chalet adosado. Virrey Osorio, Ciudad Jardín, A Coruña. 350 m. 15008\",\n",
    "    },\n",
    "    {\n",
    "        \"expediente\": \"GA00000020\",\n",
    "        \"descripcion\": \"Chalet independiente. Ciudad Jardín, A Coruña. 450 m. 5 hab. 4 baños. Piscina\",\n",
    "    },\n",
    "    {\n",
    "        \"expediente\": \"GA00000030\",\n",
    "        \"descripcion\": \"Mansión de lujo. O Grove, Pontevedra. 720 m. 6 hab. 5 baños. Cerca playa Os Raeiros\",\n",
    "    },\n",
    "    {\n",
    "        \"expediente\": \"GA00000040\",\n",
    "        \"descripcion\": \"Villa de lujo en Vigo. Vistas al mar. 600 m. 4 hab. 3 baños. Jardín, piscina\",\n",
    "    },\n",
    "    {\n",
    "        \"expediente\": \"GA00000051\",\n",
    "        \"descripcion\": \"Adosado urbanizacion. Villalonga, Sanxenxo. 300 m. Vistas mar. Piscina comunitaria\",\n",
    "    },\n",
    "    {\n",
    "        \"expediente\": \"GA00000052\",\n",
    "        \"descripcion\": \"Adosado urbanización Las Torres. Sanxenxo. 300 m. Vistas mar. Piscina comunidad. Amueblado\",\n",
    "    },\n",
    "    {\n",
    "        \"expediente\": \"GA00000053\",\n",
    "        \"descripcion\": \"Adosado urbanización Las Torres. Sanxenxo. 300 m. Vistas mar. Piscina comunidad. Amueblado\",\n",
    "    },\n",
    "    {\n",
    "        \"expediente\": \"GA00000060\",\n",
    "        \"descripcion\": \"Piso céntrico. Estudio. Rúa Real, A Coruña. 120 m. 2 hab. 1 baño. 15001. Primer piso\",\n",
    "    },\n",
    "    {\n",
    "        \"expediente\": \"GA00000061\",\n",
    "        \"descripcion\": \"Piso céntrico. Estudio. Rúa Real, A Coruña. 120 m. 2 hab. 1 baño. 15001. Primer piso\",\n",
    "    },\n",
    "    {\n",
    "        \"expediente\": \"GA00000062\",\n",
    "        \"descripcion\": \"Piso céntrico. Estudio. Rúa Real, A Coruña. 120 m. 2 hab. 1 baño. 15001. Primer piso\",\n",
    "    },\n",
    "]\n"
   ]
  },
  {
   "cell_type": "markdown",
   "metadata": {},
   "source": [
    "## Definimos la función que compara las descripciones de los inmuebles con nuestra consulta\n",
    "\n",
    "### Datos de entrada \n",
    "- BD: corresponde al diccionario donde se guarda la información de los inmuebles\n",
    "- Búsqueda: promt\n",
    "- Umbral: valor máximo del ratio\n",
    "\n",
    "### Funcionamiento\n",
    "1. La función recorre la base de datos centrándose en la \"descripción\" y sin tener en cuenta el expediente. \n",
    "2. Se compara el valor del ratio con el de la consulta\n",
    "3. Si su ratio es menor a 0.05 se muestra por pantalla."
   ]
  },
  {
   "cell_type": "code",
   "execution_count": null,
   "metadata": {},
   "outputs": [],
   "source": [
    "def busquedaRatio(BD, busqueda, umbral):\n",
    "    for inmueble in BD:\n",
    "        descripcion = inmueble[\"descripcion\"]\n",
    "        ratio = levRatio(descripcion, busqueda)\n",
    "        if ratio < umbral:\n",
    "            print(f\"Expediente: {inmueble['expediente']}     ->     Descripción: {descripcion},       ->         Ratio de Levenshtein: {ratio:.4f}\")"
   ]
  },
  {
   "cell_type": "code",
   "execution_count": null,
   "metadata": {},
   "outputs": [],
   "source": [
    "busquedaRatio(BD, \"chalet\", umbral= 0.05)"
   ]
  }
 ],
 "metadata": {
  "kernelspec": {
   "display_name": "conda_env",
   "language": "python",
   "name": "python3"
  },
  "language_info": {
   "codemirror_mode": {
    "name": "ipython",
    "version": 3
   },
   "file_extension": ".py",
   "mimetype": "text/x-python",
   "name": "python",
   "nbconvert_exporter": "python",
   "pygments_lexer": "ipython3",
   "version": "3.11.7"
  }
 },
 "nbformat": 4,
 "nbformat_minor": 2
}
