{
 "cells": [
  {
   "cell_type": "markdown",
   "metadata": {},
   "source": [
    "# Implementación de la Distancia de Levenshtein\n",
    "\n",
    "La distancia de Levenshtein tiene grandes aplicaciones en diferentes ámbitos. Es una métrica que sirve para medir la diferencia entre dos cadenas de caracteres.\n",
    "\n",
    "Se define como el número mínimo de operaciones necesarias para transformar una cadena en otra y tiene como operaciones permitidas:\n",
    "1. Inserción.\n",
    "2. Eliminación.\n",
    "3. Sustitución de caracteres.\n",
    "\n",
    "Se trata de un abordaje difuso para medir la similitud entre cadenas de caracteres.\n",
    "En este notebook se intentará realizar una implentación de esta distancia sin usar las librerías que ya traen predefinidas las funcionalidades que ofrece el cálculo de esta distancia.\n",
    "\n",
    "[Pulsa aquí para volver al readme del repositorio](../README.md)\n"
   ]
  },
  {
   "cell_type": "markdown",
   "metadata": {},
   "source": [
    "## Ratio de Levenshtein \n",
    "\n",
    "Resulta conveniente normalizar la distancia de Levenshtein empleando una magnitud relativa que permita comparar distancias entre cadenas. De esta forma se evitan sesgos en los resultados para determinados ámbitos de aplicación en comparaciones de cadenas de distancias largas.\n",
    "\n",
    "La solución más simple es la siguiente:"
   ]
  },
  {
   "cell_type": "markdown",
   "metadata": {},
   "source": [
    "$$\\text{ratio\\_lev}{(a,b)} = 1 - \\frac{\\text{lev}(a,b)}{\\max(\\text{longitud}(a), \\text{longitud}(b))}$$\n"
   ]
  },
  {
   "cell_type": "markdown",
   "metadata": {},
   "source": [
    "## Implementación\n",
    "Para implementar la distancia de Levenshtein se usará el código Python siguiente:"
   ]
  },
  {
   "cell_type": "markdown",
   "metadata": {},
   "source": [
    "Para ello, usaremos una matriz, donde las filas representarán los caracteres de la primera cadena y las columnas de los caracteres de la segunda cadena.\n",
    "\n",
    "A continuación se hace un pequeño ejemplo de como crear una matriz n x m en Python, en este caso de rango 10 para filas y columnas."
   ]
  },
  {
   "cell_type": "code",
   "execution_count": 10,
   "metadata": {},
   "outputs": [
    {
     "name": "stdout",
     "output_type": "stream",
     "text": [
      "[[0, 0, 0, 0, 0, 0, 0, 0, 0, 0], [0, 0, 0, 0, 0, 0, 0, 0, 0, 0], [0, 0, 0, 0, 0, 0, 0, 0, 0, 0], [0, 0, 0, 0, 0, 0, 0, 0, 0, 0], [0, 0, 0, 0, 0, 0, 0, 0, 0, 0], [0, 0, 0, 0, 0, 0, 0, 0, 0, 0], [0, 0, 0, 0, 0, 0, 0, 0, 0, 0], [0, 0, 0, 0, 0, 0, 0, 0, 0, 0], [0, 0, 0, 0, 0, 0, 0, 0, 0, 0], [0, 0, 0, 0, 0, 0, 0, 0, 0, 0]]\n"
     ]
    }
   ],
   "source": [
    "matriz = [[0 for n in range(10)] for m in range(10)]\n",
    "print(matriz)"
   ]
  },
  {
   "cell_type": "markdown",
   "metadata": {},
   "source": [
    "Nuestro código para el cálculo de la distancia de Levenshtein se compone de las siguientes partes:\n",
    "\n",
    "1. Se crea una función levDistance que recibe de parámetros dos cadenas de texto y devuelve la distancia de Levenshtein entre ellas con un número entero.\n",
    "    1. Inicializamos una variable coste en 0.\n",
    "    2. Se calcula la longitud independiente de ambas cadenas de texto.\n",
    "    3. Se genera una matriz n x m que recibe como rango la longitud de ambas cadenas de texto.\n",
    "    4. Con la matriz se realiza:\n",
    "        - Establecimiento de los valores de la primera fila y de la primera columna.\n",
    "        - Recorrido de la matriz desde el índice 1 hasta la longitud de la cadena 2.\n",
    "    5. Cálculo de la distancia final.\n",
    "\n",
    "2. Se calcula el ratio de Levenshtein implementando la fórmula de este definida anteriormente.\n",
    "3. Finalmente, se devuelve la distancia entre dos cadenas de texto que el usuario debe agregar en el propio código en la última linea."
   ]
  },
  {
   "cell_type": "code",
   "execution_count": 9,
   "metadata": {},
   "outputs": [
    {
     "name": "stdout",
     "output_type": "stream",
     "text": [
      "1\n"
     ]
    }
   ],
   "source": [
    "def levDistance(cadena1: str, cadena2: str) -> int: # Dos cadenas de texto como entrada y \n",
    "    #devuelve la distancia de Levenshtein entre ellas\n",
    "\n",
    "    coste = 0 #Inicliazamos el coste a 0\n",
    "\n",
    "    #Calculamos la longitud de las cadenas y les sumamos 1 para descartar el valor 0\n",
    "    lenCadena1 = len(cadena1) + 1 \n",
    "    lenCadena2 = len(cadena2) + 1\n",
    "\n",
    "    # crear matriz\n",
    "    #Pasamos el rango de la longitud de la cadena 1 y el rango de la longitud de la cadena 2 \n",
    "    #Esto crea la matriz n x m\n",
    "    matriz = [[0 for n in range(lenCadena2)] for m in range(lenCadena1)]\n",
    "\n",
    "    # inicializar matriz\n",
    "    #Establecemos los valores de la primera fila y de la primera columna \n",
    "    for i in range(lenCadena1):\n",
    "        matriz[i][0] = i\n",
    "    for j in range(lenCadena2):\n",
    "        matriz[0][j] = j\n",
    "    \n",
    "    #Recorremos la matriz desde el indice numero 1 hasta la longitud de la cadena 2\n",
    "    for i in range(1, lenCadena1):\n",
    "        for j in range(1, lenCadena2):\n",
    "\n",
    "            if cadena1[i-1] != cadena2[j-1]: #Si no son iguales las cadenas al compararlas le sumamos un 1 al coste\n",
    "                coste = 1\n",
    "            else:\n",
    "                coste = 0\n",
    "            #Calculamos el valor mínimo de las operaciones que podemos realizar en Levenshtein, inserción eliminación y sustitución\n",
    "            matriz[i][j] = min(matriz[i-1][j] + 1, matriz[i][j-1] + 1, matriz[i-1][j-1] + coste) \n",
    "            \n",
    "    #Calculamos el resultado final, extrayendo el resultado de la ultima celda de la matriz\n",
    "    return matriz[lenCadena1-1][lenCadena2-1]\n",
    "\n",
    "#Con esto calculamos el ratio de levenshtein especificada anteriormente\n",
    "def lev_ratio(cadena1: str, cadena2: str) -> float:\n",
    "    return 1 - levDistance(cadena1, cadena2)/ (max(cadena1, cadena2))\n",
    "\n",
    "\n",
    "\n",
    "            \n",
    "    \n",
    "print(levDistance(\"cama\", \"casa\"))"
   ]
  }
 ],
 "metadata": {
  "kernelspec": {
   "display_name": "conda_env",
   "language": "python",
   "name": "python3"
  },
  "language_info": {
   "codemirror_mode": {
    "name": "ipython",
    "version": 3
   },
   "file_extension": ".py",
   "mimetype": "text/x-python",
   "name": "python",
   "nbconvert_exporter": "python",
   "pygments_lexer": "ipython3",
   "version": "3.11.7"
  }
 },
 "nbformat": 4,
 "nbformat_minor": 2
}
