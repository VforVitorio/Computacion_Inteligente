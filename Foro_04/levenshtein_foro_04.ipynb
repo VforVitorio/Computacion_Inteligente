{
 "cells": [
  {
   "cell_type": "markdown",
   "metadata": {},
   "source": [
    "# Foro 04 de Computación Inteligente\n",
    "\n",
    "[En este enlace se redirige al readme principal](../README.md)\n",
    "\n"
   ]
  },
  {
   "cell_type": "code",
   "execution_count": null,
   "metadata": {},
   "outputs": [],
   "source": [
    "def levDistance(cadena1: str, cadena2: str) -> int:\n",
    "\n",
    "    coste = 0\n",
    "\n",
    "    lenCadena1 = len(cadena1) + 1\n",
    "    lenCadena2 = len(cadena2) + 1\n",
    "\n",
    "    # crear matriz\n",
    "\n",
    "    matriz = [[0 for n in range(lenCadena2)] for m in range(lenCadena1)]\n",
    "\n",
    "    # inicializar matriz\n",
    "    for i in range(lenCadena1):\n",
    "        matriz[i][0] = i\n",
    "    for j in range(lenCadena2):\n",
    "        matriz[0][j] = j\n",
    "    \n",
    "    \n",
    "    for i in range(1, lenCadena1):\n",
    "        for j in range(1, lenCadena2):\n",
    "\n",
    "            if cadena1[i-1] != cadena2[j-1]:\n",
    "                coste = 1\n",
    "            else:\n",
    "                coste = 0\n",
    "            \n",
    "            matriz[i][j] = min(matriz[i-1][j] + 1, matriz[i][j-1] + 1, matriz[i-1][j-1] + coste) \n",
    "            \n",
    "    return matriz[lenCadena1-1][lenCadena2-1]\n",
    "\n",
    "def lev_ratio(cadena1: str, cadena2: str) -> float:\n",
    "    return 1 - levDistance(cadena1, cadena2)/ (max(cadena1, cadena2))\n",
    "\n",
    "\n",
    "\n",
    "            \n",
    "    \n",
    "#print(levDistance(\"Alonso\", \"333333333333333333333333333333333\"))"
   ]
  },
  {
   "cell_type": "code",
   "execution_count": null,
   "metadata": {},
   "outputs": [],
   "source": [
    "matriz = [[0 for n in range(10)] for m in range(10)]\n",
    "\n",
    "\n",
    "print(matriz)"
   ]
  },
  {
   "cell_type": "markdown",
   "metadata": {},
   "source": []
  }
 ],
 "metadata": {
  "language_info": {
   "name": "python"
  }
 },
 "nbformat": 4,
 "nbformat_minor": 2
}
