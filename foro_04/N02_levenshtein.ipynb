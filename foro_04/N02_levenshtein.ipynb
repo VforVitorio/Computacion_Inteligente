{
 "cells": [
  {
   "cell_type": "markdown",
   "metadata": {},
   "source": [
    "# N02. Levenshtein\n",
    "\n",
    "__Borja González Seoane, Computación Inteligente y Ética de la IA. Curso 2022-23__\n"
   ]
  },
  {
   "cell_type": "markdown",
   "metadata": {},
   "source": [
    "## Preámbulo\n",
    "\n",
    "En  este _notebook_ se afrontará el caso de uso del ejemplo _Motor de búsqueda para compañía inmobiliaria_, visto en las transparencias de clase. Se replica aquí el enunciado:\n",
    "\n",
    ">- Sea una compañía que pretende desarrollar un motor de búsqueda para uso interno.\n",
    ">- Se dedica al sector inmobiliario y tiene una base de datos con expedientes de propiedades.\n",
    ">- La compañía quiere que un empleado pueda buscar un expediente mediante una consulta en lenguaje natural al respecto de la descripción de la propiedad.\n",
    ">- Por ejemplo: «Chalet en Ciudad Jardín, A Coruña» debería devolver el mismo expediente que «Casa chalet adosado en Ciudad Jardín, A Coruña, 15008».\n",
    "\n",
    "Para resolver el problema, se empleará la distancia de Levenshtein, que mide el número de operaciones necesarias para transformar una cadena de caracteres en otra. Inicialmente se usará la implementación de la librería `Levenshtein`, que ofrece una interfaz sencilla para Python. Posteriormente, quedará propuesta la implementación de un algoritmo propio, como actividad para el Foro 04.\n",
    "\n",
    "Como se dice en las transparencias, la compañía ha proporcionado una muestra de la base de datos con la que se trabajará. Por simplicidad, se presenta aquí la muestra como un diccionario fácilmente manipulable:"
   ]
  },
  {
   "cell_type": "code",
   "execution_count": 1,
   "metadata": {},
   "outputs": [],
   "source": [
    "BD = [\n",
    "    {\n",
    "        \"expediente\": \"GA00000010\",\n",
    "        \"descripcion\": \"Casa chalet adosado. Virrey Osorio, Ciudad Jardín, A Coruña. 350 m. 15008\",\n",
    "    },\n",
    "    {\n",
    "        \"expediente\": \"GA00000020\",\n",
    "        \"descripcion\": \"Chalet independiente. Ciudad Jardín, A Coruña. 450 m. 5 hab. 4 baños. Piscina\",\n",
    "    },\n",
    "    {\n",
    "        \"expediente\": \"GA00000030\",\n",
    "        \"descripcion\": \"Mansión de lujo. O Grove, Pontevedra. 720 m. 6 hab. 5 baños. Cerca playa Os Raeiros\",\n",
    "    },\n",
    "    {\n",
    "        \"expediente\": \"GA00000040\",\n",
    "        \"descripcion\": \"Villa de lujo en Vigo. Vistas al mar. 600 m. 4 hab. 3 baños. Jardín, piscina\",\n",
    "    },\n",
    "    {\n",
    "        \"expediente\": \"GA00000051\",\n",
    "        \"descripcion\": \"Adosado urbanizacion. Villalonga, Sanxenxo. 300 m. Vistas mar. Piscina comunitaria\",\n",
    "    },\n",
    "    {\n",
    "        \"expediente\": \"GA00000052\",\n",
    "        \"descripcion\": \"Adosado urbanización Las Torres. Sanxenxo. 300 m. Vistas mar. Piscina comunidad. Amueblado\",\n",
    "    },\n",
    "    {\n",
    "        \"expediente\": \"GA00000053\",\n",
    "        \"descripcion\": \"Adosado urbanización Las Torres. Sanxenxo. 300 m. Vistas mar. Piscina comunidad. Amueblado\",\n",
    "    },\n",
    "    {\n",
    "        \"expediente\": \"GA00000060\",\n",
    "        \"descripcion\": \"Piso céntrico. Estudio. Rúa Real, A Coruña. 120 m. 2 hab. 1 baño. 15001. Primer piso\",\n",
    "    },\n",
    "    {\n",
    "        \"expediente\": \"GA00000061\",\n",
    "        \"descripcion\": \"Piso céntrico. Estudio. Rúa Real, A Coruña. 120 m. 2 hab. 1 baño. 15001. Primer piso\",\n",
    "    },\n",
    "    {\n",
    "        \"expediente\": \"GA00000062\",\n",
    "        \"descripcion\": \"Piso céntrico. Estudio. Rúa Real, A Coruña. 120 m. 2 hab. 1 baño. 15001. Primer piso\",\n",
    "    },\n",
    "]"
   ]
  },
  {
   "cell_type": "code",
   "execution_count": 2,
   "metadata": {},
   "outputs": [
    {
     "name": "stdout",
     "output_type": "stream",
     "text": [
      "GA00000010: Casa chalet adosado. Virrey Osorio, Ciudad Jardín, A Coruña. 350 m. 15008\n",
      "GA00000020: Chalet independiente. Ciudad Jardín, A Coruña. 450 m. 5 hab. 4 baños. Piscina\n",
      "GA00000030: Mansión de lujo. O Grove, Pontevedra. 720 m. 6 hab. 5 baños. Cerca playa Os Raeiros\n",
      "GA00000040: Villa de lujo en Vigo. Vistas al mar. 600 m. 4 hab. 3 baños. Jardín, piscina\n",
      "GA00000051: Adosado urbanizacion. Villalonga, Sanxenxo. 300 m. Vistas mar. Piscina comunitaria\n",
      "GA00000052: Adosado urbanización Las Torres. Sanxenxo. 300 m. Vistas mar. Piscina comunidad. Amueblado\n",
      "GA00000053: Adosado urbanización Las Torres. Sanxenxo. 300 m. Vistas mar. Piscina comunidad. Amueblado\n",
      "GA00000060: Piso céntrico. Estudio. Rúa Real, A Coruña. 120 m. 2 hab. 1 baño. 15001. Primer piso\n",
      "GA00000061: Piso céntrico. Estudio. Rúa Real, A Coruña. 120 m. 2 hab. 1 baño. 15001. Primer piso\n",
      "GA00000062: Piso céntrico. Estudio. Rúa Real, A Coruña. 120 m. 2 hab. 1 baño. 15001. Primer piso\n"
     ]
    }
   ],
   "source": [
    "# Examina la BD\n",
    "for i in range(len(BD)):\n",
    "    print(f'{BD[i][\"expediente\"]}: {BD[i][\"descripcion\"]}')"
   ]
  },
  {
   "cell_type": "code",
   "execution_count": 3,
   "metadata": {},
   "outputs": [
    {
     "name": "stdout",
     "output_type": "stream",
     "text": [
      "Piso céntrico. Estudio. Rúa Real, A Coruña. 120 m. 2 hab. 1 baño. 15001. Primer piso\n"
     ]
    }
   ],
   "source": [
    "import random\n",
    "\n",
    "# Accede a una descripción al azar\n",
    "print(BD[random.randint(0, len(BD) - 1)][\"descripcion\"])"
   ]
  },
  {
   "cell_type": "markdown",
   "metadata": {},
   "source": [
    "## Ej. Foro 04. Implementación propia de la distancia de Levenshtein\n",
    "\n",
    "Se propone implementar un algoritmo propio para calcular la distancia de Levenshtein, para emplear en vez de la librería `Levenshtein`."
   ]
  },
  {
   "cell_type": "code",
   "execution_count": 24,
   "metadata": {},
   "outputs": [
    {
     "name": "stdout",
     "output_type": "stream",
     "text": [
      "33\n"
     ]
    }
   ],
   "source": [
    "def levDistance(cadena1: str, cadena2: str) -> int:\n",
    "\n",
    "    coste = 0\n",
    "\n",
    "    lenCadena1 = len(cadena1) + 1\n",
    "    lenCadena2 = len(cadena2) + 1\n",
    "\n",
    "    # crear matriz\n",
    "\n",
    "    matriz = [[0 for n in range(lenCadena2)] for m in range(lenCadena1)]\n",
    "\n",
    "    # inicializar matriz\n",
    "    for i in range(lenCadena1):\n",
    "        matriz[i][0] = i\n",
    "    for j in range(lenCadena2):\n",
    "        matriz[0][j] = j\n",
    "    \n",
    "    \n",
    "    for i in range(1, lenCadena1):\n",
    "        for j in range(1, lenCadena2):\n",
    "\n",
    "            if cadena1[i-1] != cadena2[j-1]:\n",
    "                coste = 1\n",
    "            else:\n",
    "                coste = 0\n",
    "            \n",
    "            matriz[i][j] = min(matriz[i-1][j] + 1, matriz[i][j-1] + 1, matriz[i-1][j-1] + coste) \n",
    "            \n",
    "    return matriz[lenCadena1-1][lenCadena2-1]\n",
    "\n",
    "def lev_ratio(cadena1: str, cadena2: str) -> float:\n",
    "    return 1 - levDistance(cadena1, cadena2)/ (max(cadena1, cadena2))\n",
    "\n",
    "\n",
    "\n",
    "            \n",
    "    \n",
    "#print(levDistance(\"Alonso\", \"333333333333333333333333333333333\"))"
   ]
  },
  {
   "cell_type": "code",
   "execution_count": 5,
   "metadata": {},
   "outputs": [
    {
     "name": "stdout",
     "output_type": "stream",
     "text": [
      "[[0, 0, 0, 0, 0, 0, 0, 0, 0, 0], [0, 0, 0, 0, 0, 0, 0, 0, 0, 0], [0, 0, 0, 0, 0, 0, 0, 0, 0, 0], [0, 0, 0, 0, 0, 0, 0, 0, 0, 0], [0, 0, 0, 0, 0, 0, 0, 0, 0, 0], [0, 0, 0, 0, 0, 0, 0, 0, 0, 0], [0, 0, 0, 0, 0, 0, 0, 0, 0, 0], [0, 0, 0, 0, 0, 0, 0, 0, 0, 0], [0, 0, 0, 0, 0, 0, 0, 0, 0, 0], [0, 0, 0, 0, 0, 0, 0, 0, 0, 0]]\n"
     ]
    }
   ],
   "source": [
    "\n",
    "matriz = [[0 for n in range(10)] for m in range(10)]\n",
    "\n",
    "\n",
    "print(matriz)\n"
   ]
  },
  {
   "cell_type": "code",
   "execution_count": 6,
   "metadata": {},
   "outputs": [],
   "source": [
    "%%script false --no-raise-error # Salta la ejecución de la celda hasta implementar `lev_distance` de celda anterior\n",
    "\n",
    "import Levenshtein\n",
    "\n",
    "# Tests para la función `lev_distance`, comparando con el resultado de la librería `Levenshtein`\n",
    "\n",
    "assert lev_distance(\"casa\", \"casa\") == 0, \"Error en test 1.\"\n",
    "assert lev_distance(\"casa\", \"casa grande\") == 7, \"Error en test 2.\"\n",
    "\n",
    "charset = \"ABCDEFGHIJKLMNOPQRSTUVWXYZabcdefghijklmnopqrstuvwxyz \"\n",
    "for i in range(3, 6):  # Varios test con palabras aleatorias\n",
    "    a = \"\".join(random.choices(charset, k=10))\n",
    "    b = \"\".join(random.choices(charset, k=10 * i))\n",
    "    print(f\"Test {i}: `{a}` - `{b}`.\")\n",
    "    assert lev_distance(a, b) == Levenshtein.distance(a, b), f\"Error en test {i}.\""
   ]
  },
  {
   "cell_type": "markdown",
   "metadata": {},
   "source": [
    "## Ej. 1. Implementar el motor de búsqueda de la compañía\n",
    "\n",
    "- Desarrollar una función en Python que acepte una consulta en lenguaje natural y devuelva los _N_ expedientes más relevantes. Considérese _N=3_, por ejemplo.\n",
    "- La función empleará la distancia de Levenshtein para comparar la consulta con la descripción de cada expediente.\n",
    "- Puede emplearse la librería `Levenshtein` para calcular la distancia de Levenshtein.\n"
   ]
  },
  {
   "cell_type": "code",
   "execution_count": 7,
   "metadata": {},
   "outputs": [
    {
     "ename": "ModuleNotFoundError",
     "evalue": "No module named 'Levenshtein'",
     "output_type": "error",
     "traceback": [
      "\u001b[0;31m---------------------------------------------------------------------------\u001b[0m",
      "\u001b[0;31mModuleNotFoundError\u001b[0m                       Traceback (most recent call last)",
      "Cell \u001b[0;32mIn[7], line 3\u001b[0m\n\u001b[1;32m      1\u001b[0m N \u001b[38;5;241m=\u001b[39m \u001b[38;5;241m3\u001b[39m\n\u001b[0;32m----> 3\u001b[0m \u001b[38;5;28;01mfrom\u001b[39;00m \u001b[38;5;21;01mLevenshtein\u001b[39;00m \u001b[38;5;28;01mimport\u001b[39;00m (\n\u001b[1;32m      4\u001b[0m     distance \u001b[38;5;28;01mas\u001b[39;00m lev_distance,  \u001b[38;5;66;03m# Comentar si implementación propia Foro 04. Mismo nombre para sobreescribir función\u001b[39;00m\n\u001b[1;32m      5\u001b[0m )\n",
      "\u001b[0;31mModuleNotFoundError\u001b[0m: No module named 'Levenshtein'"
     ]
    }
   ],
   "source": [
    "N = 3\n",
    "\n",
    "from Levenshtein import (\n",
    "    distance as lev_distance,  # Comentar si implementación propia Foro 04. Mismo nombre para sobreescribir función\n",
    ")"
   ]
  },
  {
   "cell_type": "code",
   "execution_count": null,
   "metadata": {},
   "outputs": [],
   "source": [
    "# Prueba la función de la librería `Levenshtein` para obtener la distancia de Levenshtein\n",
    "# ..."
   ]
  },
  {
   "cell_type": "code",
   "execution_count": null,
   "metadata": {},
   "outputs": [],
   "source": [
    "# Ídem sobre algunas descripciones de la BD\n",
    "# ..."
   ]
  },
  {
   "cell_type": "markdown",
   "metadata": {},
   "source": [
    "### Búsqueda de una métrica relativa\n",
    "\n",
    "La librería `Levenshtein` proporciona la distancia de Levenshtein entre dos cadenas. Sin embargo, típicamente, nos interesa trabajar con una métrica relativa que nos permita comparar similitudes entre cadenas de diferente longitud. De lo contrario, comparaciones entre cadenas de diferente longitud serían siempre desfavorables para la cadena más larga y no tendrían sentido.\n",
    "\n",
    "Podemos emplear un ratio de similitud, que se define como:\n",
    "\n",
    "\\begin{equation}\n",
    "\\text{ratio}_\\text{Levenshtein}(a, b) = 1 - \\frac{\\text{Levenshtein}(a, b)}{\\max(\\text{longitud}(a), \\text{longitud}(b))}\n",
    "\\end{equation}\n",
    "\n",
    "Siendo $a$ y $b$ las cadenas a comparar. El ratio de similitud toma valores entre 0 y 1, donde 1 indica que las cadenas son idénticas y 0 que no tienen caracteres en común."
   ]
  },
  {
   "cell_type": "code",
   "execution_count": 20,
   "metadata": {},
   "outputs": [
    {
     "name": "stdout",
     "output_type": "stream",
     "text": [
      "0.25\n"
     ]
    }
   ],
   "source": [
    "def lev_ratio(cadena1: str, cadena2: str) -> float:\n",
    "    return 1 - levDistance(cadena1, cadena2)/ max(len(cadena1), len(cadena2))\n",
    "\n",
    "\n",
    "print(lev_ratio(\"Frenando\", \"Alfonso\"))"
   ]
  },
  {
   "cell_type": "code",
   "execution_count": null,
   "metadata": {},
   "outputs": [],
   "source": [
    "# Volvemos a probar sobre las palabras anteriores, esta vez con la función ratio\n",
    "# ..."
   ]
  },
  {
   "cell_type": "code",
   "execution_count": null,
   "metadata": {},
   "outputs": [],
   "source": [
    "# Ídem sobre algunas descripciones de la BD\n",
    "# ..."
   ]
  },
  {
   "cell_type": "markdown",
   "metadata": {},
   "source": [
    "### Implementación del motor de búsqueda\n",
    "\n",
    "Se propone la siguiente implementación del motor de búsqueda:"
   ]
  },
  {
   "cell_type": "code",
   "execution_count": null,
   "metadata": {},
   "outputs": [],
   "source": [
    "from typing import Dict, List\n",
    "\n",
    "\n",
    "def motor_busqueda(consulta: str, BD: list = BD, N: int = N) -> List[Dict]:\n",
    "    \"\"\"\n",
    "    Motor de búsqueda que devuelve los `N` elementos más similares a `consulta` en la base de datos `BD`.\n",
    "\n",
    "    :param consulta: Consulta a buscar.\n",
    "    :param BD: Base de datos.\n",
    "    :param N: Número de elementos a devolver.\n",
    "    :return: Lista con los elementos más similares a la consulta. Formato de diccionario con las\n",
    "        claves `expediente`, `descripcion` y `similitud`.\n",
    "    \"\"\"\n",
    "    raise NotImplementedError(\"Función no implementada. Propuesta para el estudiante.\")"
   ]
  },
  {
   "cell_type": "markdown",
   "metadata": {},
   "source": [
    "### Prueba del motor de búsqueda\n",
    "\n",
    "Con algunas consultas de ejemplo, se probará el motor de búsqueda."
   ]
  },
  {
   "cell_type": "code",
   "execution_count": null,
   "metadata": {},
   "outputs": [
    {
     "ename": "NotImplementedError",
     "evalue": "Función no implementada. Propuesta para el estudiante.",
     "output_type": "error",
     "traceback": [
      "\u001b[0;31m---------------------------------------------------------------------------\u001b[0m",
      "\u001b[0;31mNotImplementedError\u001b[0m                       Traceback (most recent call last)",
      "Cell \u001b[0;32mIn[13], line 2\u001b[0m\n\u001b[1;32m      1\u001b[0m consulta \u001b[39m=\u001b[39m \u001b[39m\"\u001b[39m\u001b[39mchalet adosado en ciudad jardín coruña\u001b[39m\u001b[39m\"\u001b[39m\n\u001b[0;32m----> 2\u001b[0m motor_busqueda(consulta)\n",
      "Cell \u001b[0;32mIn[12], line 14\u001b[0m, in \u001b[0;36mmotor_busqueda\u001b[0;34m(consulta, BD, N)\u001b[0m\n\u001b[1;32m      4\u001b[0m \u001b[39mdef\u001b[39;00m \u001b[39mmotor_busqueda\u001b[39m(consulta: \u001b[39mstr\u001b[39m, BD: \u001b[39mlist\u001b[39m \u001b[39m=\u001b[39m BD, N: \u001b[39mint\u001b[39m \u001b[39m=\u001b[39m N) \u001b[39m-\u001b[39m\u001b[39m>\u001b[39m List[Dict]:\n\u001b[1;32m      5\u001b[0m \u001b[39m    \u001b[39m\u001b[39m\"\"\"\u001b[39;00m\n\u001b[1;32m      6\u001b[0m \u001b[39m    Motor de búsqueda que devuelve los `N` elementos más similares a `consulta` en la base de datos `BD`.\u001b[39;00m\n\u001b[1;32m      7\u001b[0m \n\u001b[0;32m   (...)\u001b[0m\n\u001b[1;32m     12\u001b[0m \u001b[39m        claves `expediente`, `descripcion` y `similitud`.\u001b[39;00m\n\u001b[1;32m     13\u001b[0m \u001b[39m    \"\"\"\u001b[39;00m\n\u001b[0;32m---> 14\u001b[0m     \u001b[39mraise\u001b[39;00m \u001b[39mNotImplementedError\u001b[39;00m(\u001b[39m\"\u001b[39m\u001b[39mFunción no implementada. Propuesta para el estudiante.\u001b[39m\u001b[39m\"\u001b[39m)\n",
      "\u001b[0;31mNotImplementedError\u001b[0m: Función no implementada. Propuesta para el estudiante."
     ]
    }
   ],
   "source": [
    "consulta = \"chalet adosado en ciudad jardín coruña\"\n",
    "motor_busqueda(consulta)"
   ]
  },
  {
   "cell_type": "code",
   "execution_count": null,
   "metadata": {},
   "outputs": [],
   "source": [
    "consulta = \"vistas mar piscina chalet independiente\"\n",
    "motor_busqueda(consulta)"
   ]
  },
  {
   "cell_type": "code",
   "execution_count": null,
   "metadata": {},
   "outputs": [],
   "source": [
    "consulta = \"piso estudio centro coruña calle real\"\n",
    "motor_busqueda(consulta)"
   ]
  }
 ],
 "metadata": {
  "kernelspec": {
   "display_name": "uie-cieia-laboratorio-jAuB2EJ2-py3.11",
   "language": "python",
   "name": "python3"
  },
  "language_info": {
   "codemirror_mode": {
    "name": "ipython",
    "version": 3
   },
   "file_extension": ".py",
   "mimetype": "text/x-python",
   "name": "python",
   "nbconvert_exporter": "python",
   "pygments_lexer": "ipython3",
   "version": "3.1.0"
  }
 },
 "nbformat": 4,
 "nbformat_minor": 2
}
